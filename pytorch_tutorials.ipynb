{
 "cells": [
  {
   "cell_type": "code",
   "execution_count": 62,
   "id": "61706493",
   "metadata": {},
   "outputs": [],
   "source": [
    "import torch"
   ]
  },
  {
   "cell_type": "code",
   "execution_count": 63,
   "id": "1f0a9e1c",
   "metadata": {},
   "outputs": [
    {
     "name": "stdout",
     "output_type": "stream",
     "text": [
      "tensor([-12.,  65.], grad_fn=<SubBackward0>) None None\n",
      "tensor([-12.,  65.], grad_fn=<SubBackward0>) tensor([36., 81.]) tensor([-12.,  -8.])\n"
     ]
    }
   ],
   "source": [
    "a = torch.tensor(\n",
    "    [2., 3.], \n",
    "    requires_grad=True\n",
    "    )\n",
    "b = torch.tensor(\n",
    "    [6., 4.], \n",
    "    requires_grad=True\n",
    "    )\n",
    "Q = 3*a**3 -b**2\n",
    "print(Q, a.grad, b.grad)\n",
    "\n",
    "external_grad = torch.tensor([1,1])\n",
    "Q.backward(gradient = external_grad)\n",
    "print(Q, a.grad, b.grad)"
   ]
  },
  {
   "cell_type": "code",
   "execution_count": 64,
   "id": "7396addc",
   "metadata": {},
   "outputs": [
    {
     "name": "stdout",
     "output_type": "stream",
     "text": [
      "Net(\n",
      "  (conv1): Conv2d(1, 6, kernel_size=(5, 5), stride=(1, 1))\n",
      "  (conv2): Conv2d(6, 16, kernel_size=(5, 5), stride=(1, 1))\n",
      "  (fc1): Linear(in_features=400, out_features=120, bias=True)\n",
      "  (fc2): Linear(in_features=120, out_features=84, bias=True)\n",
      "  (fc3): Linear(in_features=84, out_features=10, bias=True)\n",
      ")\n"
     ]
    }
   ],
   "source": [
    "## define a neural network\n",
    "import torch.nn as nn\n",
    "import torch.nn.functional as F\n",
    "\n",
    "class Net(nn.Module):\n",
    "\n",
    "    def __init__(self):\n",
    "        super(Net, self).__init__()\n",
    "        # 1 input channel, 6 output channels, 5*5 square convolution\n",
    "        self.conv1 = nn.Conv2d(1, 6, 5)\n",
    "        self.conv2 = nn.Conv2d(6, 16, 5)\n",
    "        self.fc1 = nn.Linear(16 * 5 * 5, 120)\n",
    "        self.fc2 = nn.Linear(120, 84)\n",
    "        self.fc3 = nn.Linear(84, 10)\n",
    "\n",
    "    def forward(self, x):\n",
    "        # Max pooling over a (2, 2) window\n",
    "        x = F.max_pool2d(F.relu(self.conv1(x)), (2, 2))\n",
    "        # if the size is a square you can specify with single number\n",
    "        x = F.max_pool2d(F.relu(self.conv2(x)), 2)\n",
    "        x = torch.flatten(x, 1) # flatten all dimensions except batch dimension (??)\n",
    "        x = F.relu(self.fc1(x))\n",
    "        x = F.relu(self.fc2(x))\n",
    "        x = self.fc3(x)\n",
    "        return x\n",
    "\n",
    "net = Net()\n",
    "print(net)\n",
    "\n"
   ]
  },
  {
   "cell_type": "code",
   "execution_count": 65,
   "id": "39451ce7",
   "metadata": {},
   "outputs": [
    {
     "name": "stdout",
     "output_type": "stream",
     "text": [
      "10\n",
      "torch.Size([6, 1, 5, 5])\n"
     ]
    }
   ],
   "source": [
    "params = list(net.parameters())\n",
    "print(len(params))\n",
    "print(params[0].size())"
   ]
  },
  {
   "cell_type": "code",
   "execution_count": 66,
   "id": "8add6859",
   "metadata": {},
   "outputs": [
    {
     "name": "stdout",
     "output_type": "stream",
     "text": [
      "tensor([[[[ 1.2339,  1.3750, -0.0568,  ..., -0.8444,  0.1542,  1.7339],\n",
      "          [ 1.4079, -0.2006, -1.2414,  ...,  0.0411, -1.3698, -1.0529],\n",
      "          [-0.2137,  0.1990, -2.0539,  ...,  0.1094, -2.6435,  1.6709],\n",
      "          ...,\n",
      "          [-1.2033,  0.7908,  0.0034,  ..., -0.4611,  1.2922, -0.4784],\n",
      "          [-0.7608,  0.0486,  1.3523,  ..., -0.8648, -0.7194, -0.1200],\n",
      "          [ 0.6577, -0.3468,  0.4076,  ..., -1.1706, -0.6507,  0.7512]]]])\n",
      "tensor([[ 0.1589,  0.0530, -0.0522, -0.0467, -0.0547, -0.0386,  0.0507,  0.0028,\n",
      "         -0.0263,  0.0454]], grad_fn=<AddmmBackward0>)\n"
     ]
    }
   ],
   "source": [
    "input = torch.randn(1,1,32,32)\n",
    "out = net(input)\n",
    "print(input)\n",
    "print(out)"
   ]
  },
  {
   "cell_type": "code",
   "execution_count": 67,
   "id": "83749c1a",
   "metadata": {},
   "outputs": [],
   "source": [
    "# what does this do? revert the above?\n",
    "net.zero_grad()\n",
    "out.backward(torch.randn(1, 10))"
   ]
  },
  {
   "cell_type": "code",
   "execution_count": 68,
   "id": "a919ef9c",
   "metadata": {},
   "outputs": [
    {
     "name": "stdout",
     "output_type": "stream",
     "text": [
      "tensor(1.0258, grad_fn=<MseLossBackward0>)\n"
     ]
    }
   ],
   "source": [
    "# loss function\n",
    "output = net(input)\n",
    "target = torch.randn(10) # set a dummy target\n",
    "target = target.view(1, -1) # same as np.reshape()\n",
    "criterion = nn.MSELoss()\n",
    "\n",
    "loss = criterion(output, target)\n",
    "print(loss)"
   ]
  },
  {
   "cell_type": "code",
   "execution_count": 69,
   "id": "7773a8d7",
   "metadata": {},
   "outputs": [
    {
     "name": "stdout",
     "output_type": "stream",
     "text": [
      "conv1.bias.grad before backward\n",
      "tensor([0., 0., 0., 0., 0., 0.])\n",
      "conv1.bias.grad after backward\n",
      "tensor([ 0.0050, -0.0069, -0.0002,  0.0058,  0.0076,  0.0299])\n"
     ]
    }
   ],
   "source": [
    "# backprop\n",
    "# zero the gradients so that gradients aren't accumulated to existing gradients (??)\n",
    "\n",
    "net.zero_grad()\n",
    "\n",
    "print('conv1.bias.grad before backward')\n",
    "print(net.conv1.bias.grad)\n",
    "\n",
    "loss.backward()\n",
    "print('conv1.bias.grad after backward')\n",
    "print(net.conv1.bias.grad)\n"
   ]
  },
  {
   "cell_type": "code",
   "execution_count": 70,
   "id": "9b3be58d",
   "metadata": {},
   "outputs": [],
   "source": [
    "# update the weights\n",
    "# using optim\n",
    "import torch.optim as optim\n",
    "\n",
    "optimizer = optim.SGD(net.parameters(), lr = 0.01)\n",
    "\n",
    "# put this in a training loop\n",
    "optimizer.zero_grad()\n",
    "output = net(input)\n",
    "loss = criterion(output, target)\n",
    "loss.backward()\n",
    "optimizer.step()"
   ]
  },
  {
   "cell_type": "markdown",
   "id": "adf16268",
   "metadata": {},
   "source": [
    "# Training a Classifier\n",
    "https://pytorch.org/tutorials/beginner/blitz/cifar10_tutorial.html "
   ]
  },
  {
   "cell_type": "code",
   "execution_count": 71,
   "id": "8814d867",
   "metadata": {},
   "outputs": [],
   "source": [
    "import torchvision\n",
    "import torchvision.transforms as transforms"
   ]
  },
  {
   "cell_type": "code",
   "execution_count": 72,
   "id": "3cf18b8c",
   "metadata": {},
   "outputs": [
    {
     "name": "stdout",
     "output_type": "stream",
     "text": [
      "Files already downloaded and verified\n",
      "Files already downloaded and verified\n"
     ]
    }
   ],
   "source": [
    "## resolves issue with ssl certs in PyTorch\n",
    "import ssl\n",
    "ssl._create_default_https_context = ssl._create_unverified_context\n",
    "##\n",
    "transform = transforms.Compose(\n",
    "    [\n",
    "        transforms.ToTensor(),\n",
    "        transforms.Normalize(\n",
    "                    (0.5, 0.5, 0.5),\n",
    "                    (0.5, 0.5, 0.5)\n",
    "                        )\n",
    "    ]\n",
    ")\n",
    "\n",
    "batch_size = 4\n",
    "\n",
    "trainset = torchvision.datasets.CIFAR10(\n",
    "    root = './data',\n",
    "    train = True,\n",
    "    download = True,\n",
    "    transform = transform\n",
    ")\n",
    "\n",
    "trainloader = torch.utils.data.DataLoader(\n",
    "    trainset,\n",
    "    batch_size = batch_size,\n",
    "    shuffle = True, \n",
    "    num_workers = 2\n",
    ")\n",
    "\n",
    "testset = torchvision.datasets.CIFAR10(\n",
    "    root = './data',\n",
    "    train = False,\n",
    "    download = True,\n",
    "    transform = transform\n",
    ")\n",
    "\n",
    "testloader = torch.utils.data.DataLoader(\n",
    "    testset,\n",
    "    batch_size = batch_size,\n",
    "    shuffle = False,\n",
    "    num_workers = 2\n",
    ")\n",
    "\n",
    "classes = ('plane', 'car', 'bird', 'cat',\n",
    "            'deer', 'dog', 'frog', 'horse', 'ship', 'truck')\n",
    "\n",
    "\n"
   ]
  },
  {
   "cell_type": "code",
   "execution_count": 73,
   "id": "bab07952",
   "metadata": {},
   "outputs": [
    {
     "data": {
      "image/png": "[encoded data removed]",
      "text/plain": [
       "<Figure size 432x288 with 1 Axes>"
      ]
     },
     "metadata": {
      "needs_background": "light"
     },
     "output_type": "display_data"
    },
    {
     "name": "stdout",
     "output_type": "stream",
     "text": [
      "cat   horse car   truck\n"
     ]
    }
   ],
   "source": [
    "import matplotlib.pyplot as plt\n",
    "import numpy as np\n",
    "\n",
    "def imshow(img):\n",
    "    img = img / 2 + 0.5 # unnormalize\n",
    "    npimg = img.numpy()\n",
    "    plt.imshow(np.transpose(npimg, (1, 2, 0)))\n",
    "    plt.show()\n",
    "\n",
    "dataiter = iter(trainloader)\n",
    "images, labels = dataiter.next()\n",
    "\n",
    "# show images\n",
    "imshow(torchvision.utils.make_grid(images))\n",
    "\n",
    "# print labels (for each batch i.e 4)\n",
    "print(\n",
    "    ' '.join(\n",
    "        f'{classes[labels[j]]:5s}' for j in range(batch_size)\n",
    "    )\n",
    ")"
   ]
  },
  {
   "cell_type": "code",
   "execution_count": 150,
   "id": "4db5311d",
   "metadata": {},
   "outputs": [],
   "source": [
    "# create a convolutional NN\n",
    "\n",
    "class ConvNet(nn.Module):\n",
    "    def __init__(self):\n",
    "        super().__init__()\n",
    "        # 3 input chanels (r, g, b), 6 output channels, 5*5 conv\n",
    "        self.conv1 = nn.Conv2d(3, 6, 5)\n",
    "        self.pool = nn.MaxPool2d(2, 2)\n",
    "        self.conv2 = nn.Conv2d(6, 16, 5)\n",
    "        self.fc1 = nn.Linear(16 * 5 * 5, 120)\n",
    "        self.fc2 = nn.Linear(120, 84)\n",
    "        self.fc3 = nn.Linear(84, 10)\n",
    "\n",
    "    def forward(self, x):\n",
    "        x = self.pool(F.relu(self.conv1(x)))\n",
    "        x = self.pool(F.relu(self.conv2(x)))\n",
    "        x = torch.flatten(x, 1) # flatten all dimensions except batch\n",
    "        x = F.relu(self.fc1(x))\n",
    "        x = F.relu(self.fc2(x))\n",
    "        x = self.fc3(x)\n",
    "        return x\n",
    "\n",
    "\n",
    "class ResNet(nn.Module):\n",
    "    \"\"\"\n",
    "    Attempt at trying a resnet model\n",
    "    Resnet is understood to have a 'skip connection' \n",
    "    see https://www.geeksforgeeks.org/residual-networks-resnet-deep-learning/\n",
    "    \"\"\"\n",
    "    def __init__(self):\n",
    "        super().__init__()\n",
    "        # 3 input chanels (r,g, b), 6 output channels, 5*5 conv\n",
    "        self.conv1 = nn.Conv2d(3, 6, 5)\n",
    "        self.pool = nn.MaxPool2d(2, 2)\n",
    "        self.conv2 = nn.Conv2d(6, 16, 5)\n",
    "        self.fc1 = nn.Linear(16 * 5 * 5, 120)\n",
    "        self.fc2 = nn.Linear(120, 84)\n",
    "        self.fc3 = nn.Linear(84, 10)\n",
    "        self.fc4 = nn.Linear(10, 10) # for skip connection\n",
    "\n",
    "    def forward(self, x):\n",
    "        x = self.pool(F.relu(self.conv1(x)))\n",
    "        x = self.pool(F.relu(self.conv2(x)))\n",
    "        x = torch.flatten(x, 1) # flatten all dimensions except batch\n",
    "        x = F.relu(self.fc1(x))\n",
    "        x = F.relu(self.fc2(x))\n",
    "        x = self.fc3(x)\n",
    "        # skip connection\n",
    "        x = F.relu(self.fc4(x))\n",
    "        x = self.fc4(x) + x # add to residual\n",
    "        return x\n",
    "net = ConvNet()"
   ]
  },
  {
   "cell_type": "code",
   "execution_count": 151,
   "id": "94cf0f9c",
   "metadata": {},
   "outputs": [],
   "source": [
    "# cross-entropy loss, use SGD with momentum\n",
    "criterion = nn.CrossEntropyLoss()\n",
    "optimizer = optim.SGD(net.parameters(), lr = 0.001, momentum = 0.9)"
   ]
  },
  {
   "cell_type": "code",
   "execution_count": 163,
   "id": "3fe1cee8",
   "metadata": {},
   "outputs": [],
   "source": [
    "# create training function to play with hyperparams\n",
    "def Train(net, epochs, trainloader, criterion, optimizer):\n",
    "    # train the network\n",
    "    for epoch in range(epochs):\n",
    "\n",
    "        running_loss = 0.0\n",
    "        for i, data in enumerate(trainloader, 0):\n",
    "            # get the inputs; data is a list of [inputs, labels]\n",
    "            inputs, labels = data\n",
    "\n",
    "            # zero the parameter gradients (still not sure what this is really?)\n",
    "            optimizer.zero_grad()\n",
    "\n",
    "            # forward + backward + optimize\n",
    "            outputs = net(inputs)\n",
    "            loss = criterion(outputs, labels)\n",
    "            loss.backward()\n",
    "            optimizer.step()\n",
    "\n",
    "            # print stats\n",
    "            running_loss += loss.item()\n",
    "            if i % 2000 == 1999: # print every 2000 minibatches\n",
    "                print(f'[{epoch + 1}, {i + 1:5d}] loss: {running_loss / 2000:.3f}')\n",
    "                running_loss = 0.0 # why reset this? - its an average loss for last 2000 mini batches\n",
    "\n",
    "\n",
    "    print('Finished Training')\n",
    "\n",
    "\n",
    "def Eval(net, testloader):\n",
    "    correct = 0\n",
    "    total = 0\n",
    "    with torch.no_grad():\n",
    "        for data in testloader:\n",
    "            images, labels = data\n",
    "            # calculate outputs by running images through the network\n",
    "            outputs = net(images)\n",
    "            _, predicted = torch.max(outputs.data, 1)\n",
    "            total += labels.size(0)\n",
    "            correct += (predicted == labels).sum().item()\n",
    "\n",
    "    print(f'Accuracy of the network on the 10000 test images: {100 * correct // total} %')\n",
    "\n"
   ]
  },
  {
   "cell_type": "code",
   "execution_count": 165,
   "id": "ac2bfbce",
   "metadata": {},
   "outputs": [],
   "source": [
    "# networks to test\n",
    "net1 = ConvNet()\n",
    "net2 = ConvNet()\n",
    "net3 = ConvNet()\n",
    "net4 = ConvNet()\n",
    "\n",
    "# one criterion for all\n",
    "criterion = nn.CrossEntropyLoss()\n",
    "\n",
    "# optimizers\n",
    "optimizer1 = optim.SGD(net1.parameters(), lr = 0.0005, momentum = 0.9)\n",
    "optimizer2 = optim.SGD(net2.parameters(), lr = 0.001, momentum = 0.9)\n",
    "optimizer3 = optim.SGD(net3.parameters(), lr = 0.002, momentum = 0.9)\n",
    "optimizer4 = optim.SGD(net4.parameters(), lr = 0.004, momentum = 0.9)"
   ]
  },
  {
   "cell_type": "code",
   "execution_count": 167,
   "id": "e21cc11a",
   "metadata": {},
   "outputs": [
    {
     "name": "stdout",
     "output_type": "stream",
     "text": [
      "[1,  2000] loss: 2.304\n",
      "[1,  4000] loss: 2.303\n",
      "[1,  6000] loss: 2.303\n",
      "[1,  8000] loss: 2.303\n",
      "[1, 10000] loss: 2.303\n",
      "[1, 12000] loss: 2.304\n",
      "Finished Training\n"
     ]
    }
   ],
   "source": [
    "Train(net1, 1, trainloader, criterion, optimizer1)\n",
    "# Train(net2, 5, trainloader, criterion, optimizer2)\n",
    "# Train(net3, 5, trainloader, criterion, optimizer3)\n",
    "# Train(net4, 5, trainloader, criterion, optimizer4)"
   ]
  },
  {
   "cell_type": "code",
   "execution_count": 164,
   "id": "ecf4c6d4",
   "metadata": {},
   "outputs": [
    {
     "name": "stdout",
     "output_type": "stream",
     "text": [
      "Accuracy of the network on the 10000 test images: 63 %\n"
     ]
    }
   ],
   "source": [
    "Eval(net1, testloader)\n",
    "# Eval(net2, testloader)\n",
    "# Eval(net3, testloader)\n",
    "# Eval(net4, testloader)\n"
   ]
  },
  {
   "cell_type": "code",
   "execution_count": 152,
   "id": "de3812e7",
   "metadata": {},
   "outputs": [
    {
     "name": "stdout",
     "output_type": "stream",
     "text": [
      "[1,  2000] loss: 2.197\n",
      "[1,  4000] loss: 1.826\n",
      "[1,  6000] loss: 1.626\n",
      "[1,  8000] loss: 1.526\n",
      "[1, 10000] loss: 1.477\n",
      "[1, 12000] loss: 1.408\n",
      "[2,  2000] loss: 1.333\n",
      "[2,  4000] loss: 1.328\n",
      "[2,  6000] loss: 1.277\n",
      "[2,  8000] loss: 1.261\n",
      "[2, 10000] loss: 1.226\n",
      "[2, 12000] loss: 1.228\n",
      "Finished Training\n"
     ]
    }
   ],
   "source": [
    "# train the network\n",
    "for epoch in range(2):\n",
    "\n",
    "    running_loss = 0.0\n",
    "    for i, data in enumerate(trainloader, 0):\n",
    "        # get the inputs; data is a list of [inputs, labels]\n",
    "        inputs, labels = data\n",
    "\n",
    "        # zero the parameter gradients (still not sure what this is really?)\n",
    "        optimizer.zero_grad()\n",
    "\n",
    "        # forward + backward + optimize\n",
    "        outputs = net(inputs)\n",
    "        loss = criterion(outputs, labels)\n",
    "        loss.backward()\n",
    "        optimizer.step()\n",
    "\n",
    "        # print stats\n",
    "        running_loss += loss.item()\n",
    "        if i % 2000 == 1999: # print every 2000 minibatches\n",
    "            print(f'[{epoch + 1}, {i + 1:5d}] loss: {running_loss / 2000:.3f}')\n",
    "            running_loss = 0.0 # why reset this? - its an average loss for last 2000 mini batches\n",
    "\n",
    "\n",
    "print('Finished Training')\n"
   ]
  },
  {
   "cell_type": "code",
   "execution_count": 77,
   "id": "a0884125",
   "metadata": {},
   "outputs": [],
   "source": [
    "# save the model\n",
    "\n",
    "PATH = './cifar_net.pth'\n",
    "torch.save(net.state_dict(), PATH)"
   ]
  },
  {
   "cell_type": "code",
   "execution_count": 153,
   "id": "17738697",
   "metadata": {},
   "outputs": [
    {
     "data": {
      "image/png": "[encoded data removed]",
      "text/plain": [
       "<Figure size 432x288 with 1 Axes>"
      ]
     },
     "metadata": {
      "needs_background": "light"
     },
     "output_type": "display_data"
    },
    {
     "name": "stdout",
     "output_type": "stream",
     "text": [
      "Ground Truth:  cat   ship  ship  plane\n"
     ]
    }
   ],
   "source": [
    "# review the model on the test data\n",
    "dataiter = iter(testloader)\n",
    "images, labels = dataiter.next()\n",
    "\n",
    "# print images\n",
    "imshow(torchvision.utils.make_grid(images))\n",
    "print('Ground Truth: ',\n",
    "' '.join(f'{classes[labels[j]]:5s}' for j in range(4)))\n"
   ]
  },
  {
   "cell_type": "code",
   "execution_count": 154,
   "id": "e57db5fa",
   "metadata": {},
   "outputs": [],
   "source": [
    "# apply the net\n",
    "outputs = net(images)"
   ]
  },
  {
   "cell_type": "code",
   "execution_count": 155,
   "id": "f34fb8f7",
   "metadata": {},
   "outputs": [
    {
     "data": {
      "text/plain": [
       "tensor([[True, True, True, True, True, True, True, True, True, True],\n",
       "        [True, True, True, True, True, True, True, True, True, True],\n",
       "        [True, True, True, True, True, True, True, True, True, True],\n",
       "        [True, True, True, True, True, True, True, True, True, True]])"
      ]
     },
     "execution_count": 155,
     "metadata": {},
     "output_type": "execute_result"
    }
   ],
   "source": [
    "outputs == outputs.data\n",
    "# what is outputs.data???"
   ]
  },
  {
   "cell_type": "code",
   "execution_count": 156,
   "id": "cf96f9ca",
   "metadata": {},
   "outputs": [
    {
     "name": "stdout",
     "output_type": "stream",
     "text": [
      "Predicted:  cat   ship  ship  ship \n"
     ]
    }
   ],
   "source": [
    "\n",
    "\n",
    "_, predicted = torch.max(outputs, 1)\n",
    "\n",
    "print('Predicted: ', ' '.join(f'{classes[predicted[j]]:5s}'\n",
    "                              for j in range(4)))"
   ]
  },
  {
   "cell_type": "code",
   "execution_count": 157,
   "id": "41cc3b95",
   "metadata": {},
   "outputs": [
    {
     "name": "stdout",
     "output_type": "stream",
     "text": [
      "Accuracy of the network on the 10000 test images: 56 %\n"
     ]
    }
   ],
   "source": [
    "# evaluate network against the whole dataset\n",
    "correct = 0\n",
    "total = 0\n",
    "\n",
    "with torch.no_grad():\n",
    "    for data in testloader:\n",
    "        images, labels = data\n",
    "        # calculate outputs by running images through the network\n",
    "        outputs = net(images)\n",
    "        _, predicted = torch.max(outputs.data, 1)\n",
    "        total += labels.size(0)\n",
    "        correct += (predicted == labels).sum().item()\n",
    "\n",
    "print(f'Accuracy of the network on the 10000 test images: {100 * correct // total} %')"
   ]
  },
  {
   "cell_type": "code",
   "execution_count": 158,
   "id": "0ba4de63",
   "metadata": {},
   "outputs": [
    {
     "name": "stdout",
     "output_type": "stream",
     "text": [
      "Accuracy for class: plane is 50.2 %\n",
      "Accuracy for class: car   is 78.9 %\n",
      "Accuracy for class: bird  is 44.0 %\n",
      "Accuracy for class: cat   is 27.8 %\n",
      "Accuracy for class: deer  is 51.2 %\n",
      "Accuracy for class: dog   is 41.6 %\n",
      "Accuracy for class: frog  is 86.5 %\n",
      "Accuracy for class: horse is 57.6 %\n",
      "Accuracy for class: ship  is 74.2 %\n",
      "Accuracy for class: truck is 56.2 %\n"
     ]
    }
   ],
   "source": [
    "# check against\n",
    "correct_pred = {classname: 0 for classname in classes}\n",
    "total_pred = {classname: 0 for classname in classes}\n",
    "\n",
    "with torch.no_grad():\n",
    "    for data in testloader:\n",
    "        images, labels = data\n",
    "        outputs = net(images)\n",
    "        _, predictions = torch.max(outputs, 1)\n",
    "        # collect correct pred for each class\n",
    "        for label, prediction in zip(labels, predictions):\n",
    "            if label == prediction:\n",
    "                correct_pred[classes[label]] += 1\n",
    "            total_pred[classes[label]] += 1\n",
    "\n",
    "for classname, correct_count in correct_pred.items():\n",
    "    accuracy = 100 * float(correct_count) / total_pred[classname]\n",
    "    print(f'Accuracy for class: {classname:5s} is {accuracy:.1f} %')"
   ]
  },
  {
   "cell_type": "code",
   "execution_count": 160,
   "id": "b5d29e5c",
   "metadata": {},
   "outputs": [
    {
     "data": {
      "image/png": "[encoded data removed]",
      "text/plain": [
       "<Figure size 432x288 with 1 Axes>"
      ]
     },
     "metadata": {
      "needs_background": "light"
     },
     "output_type": "display_data"
    },
    {
     "name": "stderr",
     "output_type": "stream",
     "text": [
      "Clipping input data to the valid range for imshow with RGB data ([0..1] for floats or [0..255] for integers).\n"
     ]
    },
    {
     "data": {
      "image/png": "[encoded data removed]",
      "text/plain": [
       "<Figure size 432x288 with 1 Axes>"
      ]
     },
     "metadata": {
      "needs_background": "light"
     },
     "output_type": "display_data"
    },
    {
     "name": "stderr",
     "output_type": "stream",
     "text": [
      "Clipping input data to the valid range for imshow with RGB data ([0..1] for floats or [0..255] for integers).\n"
     ]
    },
    {
     "data": {
      "image/png": "[encoded data removed]",
      "text/plain": [
       "<Figure size 432x288 with 1 Axes>"
      ]
     },
     "metadata": {
      "needs_background": "light"
     },
     "output_type": "display_data"
    },
    {
     "name": "stderr",
     "output_type": "stream",
     "text": [
      "Clipping input data to the valid range for imshow with RGB data ([0..1] for floats or [0..255] for integers).\n"
     ]
    },
    {
     "data": {
      "image/png": "[encoded data removed]",
      "text/plain": [
       "<Figure size 432x288 with 1 Axes>"
      ]
     },
     "metadata": {
      "needs_background": "light"
     },
     "output_type": "display_data"
    }
   ],
   "source": [
    "# how can I get the convolution for a single image?\n",
    "i = 0\n",
    "imshow(inputs[i])\n",
    "imshow(net.conv1(inputs[i]).detach()[:3,:,:])\n",
    "imshow(net.conv1(inputs[i]).detach()[3:6,:,:])\n",
    "imshow(net.conv1(inputs[i]).detach()[6:,:,:])"
   ]
  },
  {
   "cell_type": "code",
   "execution_count": 127,
   "id": "632134ef",
   "metadata": {},
   "outputs": [
    {
     "data": {
      "text/plain": [
       "216"
      ]
     },
     "execution_count": 127,
     "metadata": {},
     "output_type": "execute_result"
    }
   ],
   "source": [
    "texts = [50,36, 43,49, 38]\n",
    "sum(texts )"
   ]
  }
 ],
 "metadata": {
  "kernelspec": {
   "display_name": "Python 3.9.7",
   "language": "python",
   "name": "python3"
  },
  "language_info": {
   "codemirror_mode": {
    "name": "ipython",
    "version": 3
   },
   "file_extension": ".py",
   "mimetype": "text/x-python",
   "name": "python",
   "nbconvert_exporter": "python",
   "pygments_lexer": "ipython3",
   "version": "3.9.7"
  },
  "vscode": {
   "interpreter": {
    "hash": "35643e8013a8986bd707b2979c5c936bcf5bc6379996007802b723641253d1ab"
   }
  }
 },
 "nbformat": 4,
 "nbformat_minor": 5
}
